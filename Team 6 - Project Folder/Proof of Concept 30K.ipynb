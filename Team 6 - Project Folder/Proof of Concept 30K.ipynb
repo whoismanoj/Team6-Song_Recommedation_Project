{
 "cells": [
  {
   "cell_type": "code",
   "execution_count": 13,
   "metadata": {
    "id": "oBcg6ABDA2Z6"
   },
   "outputs": [],
   "source": [
    "# Basic Libraries\n",
    "import numpy as np\n",
    "import pandas as pd\n",
    "from sklearn.feature_extraction.text import CountVectorizer\n",
    "from sklearn.metrics.pairwise import cosine_similarity"
   ]
  },
  {
   "cell_type": "markdown",
   "metadata": {
    "id": "gUdu12EZI_eX"
   },
   "source": [
    "# Data Extraction"
   ]
  },
  {
   "cell_type": "code",
   "execution_count": 14,
   "metadata": {
    "colab": {
     "base_uri": "https://localhost:8080/",
     "height": 206
    },
    "executionInfo": {
     "elapsed": 316,
     "status": "ok",
     "timestamp": 1681630856699,
     "user": {
      "displayName": "Dino Ng",
      "userId": "02366820357577319560"
     },
     "user_tz": -480
    },
    "id": "RH3a88TA1qsa",
    "outputId": "37271d61-765c-4f1e-cf11-4b640814e973"
   },
   "outputs": [
    {
     "name": "stdout",
     "output_type": "stream",
     "text": [
      "Are all track_names in the database unique?  True\n"
     ]
    }
   ],
   "source": [
    "musicdata = pd.read_csv('Spotify Dataset.csv')\n",
    "musicdata = musicdata.drop([\"Unnamed: 0\", \"track_id\"], axis = 1) \n",
    "musicdata['songlists'] = musicdata.apply(lambda row: row['artists'] + row['track_name'], axis = 1)\n",
    "musicdata = musicdata.drop_duplicates('songlists')\n",
    "musicdata[['artists','track_name', 'album_name']]\n",
    "print(\"Are all track_names in the database unique? \",len(pd.unique(musicdata.songlists))==len(musicdata))"
   ]
  },
  {
   "cell_type": "code",
   "execution_count": 15,
   "metadata": {
    "id": "rGHyuFkbq3dz"
   },
   "outputs": [],
   "source": [
    "data = musicdata.sort_values(by=['popularity'], ascending = False).head(30000) #First 30K popular songs"
   ]
  },
  {
   "cell_type": "code",
   "execution_count": 16,
   "metadata": {
    "colab": {
     "base_uri": "https://localhost:8080/",
     "height": 75
    },
    "executionInfo": {
     "elapsed": 10,
     "status": "ok",
     "timestamp": 1681630869362,
     "user": {
      "displayName": "Dino Ng",
      "userId": "02366820357577319560"
     },
     "user_tz": -480
    },
    "id": "zEyf61ZmDlBZ",
    "outputId": "1dbc6648-8c6a-4a3d-e003-f662e738387d"
   },
   "outputs": [
    {
     "data": {
      "text/plain": [
       "CountVectorizer()"
      ]
     },
     "execution_count": 16,
     "metadata": {},
     "output_type": "execute_result"
    }
   ],
   "source": [
    "genre_vectors = CountVectorizer()\n",
    "genre_vectors.fit(data['track_genre'])"
   ]
  },
  {
   "cell_type": "code",
   "execution_count": 17,
   "metadata": {
    "id": "dqYbwPWLFiH6"
   },
   "outputs": [],
   "source": [
    "def recommended_songs(song_name):\n",
    "\n",
    "    #If the song could not be found within the dataset\n",
    "    if data[data['track_name'] == song_name].shape[0] == 0:\n",
    "        \n",
    "        print('This song is not available. Here are some other popular songs that you may like:\\n')\n",
    "        suggested_music_list = data.nlargest(100, 'popularity')\n",
    "        suggested_music = suggested_music_list.sample(n = 5) #any 5 samples\n",
    "\n",
    "        return display(suggested_music[['artists', 'track_name', 'album_name']])\n",
    "    \n",
    "    #If the song could be found within the dataset\n",
    "    song_input_array1 = genre_vectors.transform(data[data['track_name'] == song_name]['track_genre']).toarray() \n",
    "    #for text comparison\n",
    "    song_input_array2 = data[data['track_name']==song_name].select_dtypes(include = np.number).to_numpy() \n",
    "    #for other numeric factors comparison\n",
    "   \n",
    "    similarity_index = []\n",
    "    for index, row in data.iterrows():\n",
    "        song = row['track_name']\n",
    "     \n",
    "        # Getting vector for existing songs in the playlist.\n",
    "        existing_song_array1 = genre_vectors.transform(data[data['track_name'] == song]['track_genre']).toarray()\n",
    "        #for text comparison\n",
    "        existing_song_array2 = data[data['track_name'] == song].select_dtypes(include = np.number).to_numpy()\n",
    "        #for other numeric factors comparison\n",
    " \n",
    "        # Calculating similarities for text as well as numeric features\n",
    "        text_similarity = cosine_similarity(song_input_array1, existing_song_array1)[0][0]\n",
    "        feature_similarity = cosine_similarity(song_input_array2, existing_song_array2)[0][0]\n",
    "        \n",
    "        #adding the results into the array created\n",
    "        similarity_index.append(text_similarity + feature_similarity)\n",
    " \n",
    "    data['similarity'] = similarity_index\n",
    "    \n",
    "    data.sort_values(by=['similarity'], ascending = [False], inplace=True)\n",
    "   \n",
    "    display(data[['artists', 'track_name', 'album_name']][1:6]) \n",
    "    #Ignore song 1 as it is just the input song itself"
   ]
  },
  {
   "cell_type": "code",
   "execution_count": 18,
   "metadata": {
    "colab": {
     "base_uri": "https://localhost:8080/",
     "height": 206
    },
    "executionInfo": {
     "elapsed": 32354,
     "status": "ok",
     "timestamp": 1681630901707,
     "user": {
      "displayName": "Dino Ng",
      "userId": "02366820357577319560"
     },
     "user_tz": -480
    },
    "id": "3eqrFU_OFqWd",
    "outputId": "0d1473af-ad9b-4ed8-fded-ec077aaf5a47"
   },
   "outputs": [
    {
     "data": {
      "text/html": [
       "<div>\n",
       "<style scoped>\n",
       "    .dataframe tbody tr th:only-of-type {\n",
       "        vertical-align: middle;\n",
       "    }\n",
       "\n",
       "    .dataframe tbody tr th {\n",
       "        vertical-align: top;\n",
       "    }\n",
       "\n",
       "    .dataframe thead th {\n",
       "        text-align: right;\n",
       "    }\n",
       "</style>\n",
       "<table border=\"1\" class=\"dataframe\">\n",
       "  <thead>\n",
       "    <tr style=\"text-align: right;\">\n",
       "      <th></th>\n",
       "      <th>artists</th>\n",
       "      <th>track_name</th>\n",
       "      <th>album_name</th>\n",
       "    </tr>\n",
       "  </thead>\n",
       "  <tbody>\n",
       "    <tr>\n",
       "      <th>465</th>\n",
       "      <td>Joshua Hyslop</td>\n",
       "      <td>Wells</td>\n",
       "      <td>Wells</td>\n",
       "    </tr>\n",
       "    <tr>\n",
       "      <th>208</th>\n",
       "      <td>Aron Wright</td>\n",
       "      <td>You Were Supposed to Be Different</td>\n",
       "      <td>You Were Supposed to Be Different</td>\n",
       "    </tr>\n",
       "    <tr>\n",
       "      <th>109</th>\n",
       "      <td>Tyler Ward</td>\n",
       "      <td>How To Lose a Girl</td>\n",
       "      <td>Songs From Nashville</td>\n",
       "    </tr>\n",
       "    <tr>\n",
       "      <th>508</th>\n",
       "      <td>Greg Laswell</td>\n",
       "      <td>And Then You</td>\n",
       "      <td>Three Flights From Alto Nido</td>\n",
       "    </tr>\n",
       "    <tr>\n",
       "      <th>960</th>\n",
       "      <td>Bootstraps</td>\n",
       "      <td>Whenever You're Around</td>\n",
       "      <td>Demo Love</td>\n",
       "    </tr>\n",
       "  </tbody>\n",
       "</table>\n",
       "</div>"
      ],
      "text/plain": [
       "           artists                         track_name  \\\n",
       "465  Joshua Hyslop                              Wells   \n",
       "208    Aron Wright  You Were Supposed to Be Different   \n",
       "109     Tyler Ward                 How To Lose a Girl   \n",
       "508   Greg Laswell                       And Then You   \n",
       "960     Bootstraps             Whenever You're Around   \n",
       "\n",
       "                            album_name  \n",
       "465                              Wells  \n",
       "208  You Were Supposed to Be Different  \n",
       "109               Songs From Nashville  \n",
       "508       Three Flights From Alto Nido  \n",
       "960                          Demo Love  "
      ]
     },
     "metadata": {},
     "output_type": "display_data"
    }
   ],
   "source": [
    "recommended_songs('Love Someone')"
   ]
  },
  {
   "cell_type": "code",
   "execution_count": 19,
   "metadata": {
    "colab": {
     "base_uri": "https://localhost:8080/",
     "height": 206
    },
    "executionInfo": {
     "elapsed": 33736,
     "status": "ok",
     "timestamp": 1681630935442,
     "user": {
      "displayName": "Dino Ng",
      "userId": "02366820357577319560"
     },
     "user_tz": -480
    },
    "id": "QvkuiAro3oT1",
    "outputId": "729af882-5068-4232-b725-d31ed9e537ae"
   },
   "outputs": [
    {
     "data": {
      "text/html": [
       "<div>\n",
       "<style scoped>\n",
       "    .dataframe tbody tr th:only-of-type {\n",
       "        vertical-align: middle;\n",
       "    }\n",
       "\n",
       "    .dataframe tbody tr th {\n",
       "        vertical-align: top;\n",
       "    }\n",
       "\n",
       "    .dataframe thead th {\n",
       "        text-align: right;\n",
       "    }\n",
       "</style>\n",
       "<table border=\"1\" class=\"dataframe\">\n",
       "  <thead>\n",
       "    <tr style=\"text-align: right;\">\n",
       "      <th></th>\n",
       "      <th>artists</th>\n",
       "      <th>track_name</th>\n",
       "      <th>album_name</th>\n",
       "    </tr>\n",
       "  </thead>\n",
       "  <tbody>\n",
       "    <tr>\n",
       "      <th>67353</th>\n",
       "      <td>Daddy Yankee</td>\n",
       "      <td>Gasolina</td>\n",
       "      <td>Barrio Fino (Bonus Track Version)</td>\n",
       "    </tr>\n",
       "    <tr>\n",
       "      <th>67359</th>\n",
       "      <td>Bad Bunny</td>\n",
       "      <td>Tití Me Preguntó</td>\n",
       "      <td>Un Verano Sin Ti</td>\n",
       "    </tr>\n",
       "    <tr>\n",
       "      <th>67801</th>\n",
       "      <td>Rauw Alejandro;Lyanno;Brray</td>\n",
       "      <td>LOKERA</td>\n",
       "      <td>LOKERA</td>\n",
       "    </tr>\n",
       "    <tr>\n",
       "      <th>67806</th>\n",
       "      <td>Ozuna</td>\n",
       "      <td>Mañana</td>\n",
       "      <td>OzuTochi</td>\n",
       "    </tr>\n",
       "    <tr>\n",
       "      <th>67552</th>\n",
       "      <td>Rvssian;Rauw Alejandro;Chris Brown</td>\n",
       "      <td>Nostálgico</td>\n",
       "      <td>Nostálgico</td>\n",
       "    </tr>\n",
       "  </tbody>\n",
       "</table>\n",
       "</div>"
      ],
      "text/plain": [
       "                                  artists        track_name  \\\n",
       "67353                        Daddy Yankee          Gasolina   \n",
       "67359                           Bad Bunny  Tití Me Preguntó   \n",
       "67801         Rauw Alejandro;Lyanno;Brray            LOKERA   \n",
       "67806                               Ozuna            Mañana   \n",
       "67552  Rvssian;Rauw Alejandro;Chris Brown        Nostálgico   \n",
       "\n",
       "                              album_name  \n",
       "67353  Barrio Fino (Bonus Track Version)  \n",
       "67359                   Un Verano Sin Ti  \n",
       "67801                             LOKERA  \n",
       "67806                           OzuTochi  \n",
       "67552                         Nostálgico  "
      ]
     },
     "metadata": {},
     "output_type": "display_data"
    }
   ],
   "source": [
    "recommended_songs('Efecto')"
   ]
  },
  {
   "cell_type": "code",
   "execution_count": 20,
   "metadata": {},
   "outputs": [
    {
     "data": {
      "text/html": [
       "<div>\n",
       "<style scoped>\n",
       "    .dataframe tbody tr th:only-of-type {\n",
       "        vertical-align: middle;\n",
       "    }\n",
       "\n",
       "    .dataframe tbody tr th {\n",
       "        vertical-align: top;\n",
       "    }\n",
       "\n",
       "    .dataframe thead th {\n",
       "        text-align: right;\n",
       "    }\n",
       "</style>\n",
       "<table border=\"1\" class=\"dataframe\">\n",
       "  <thead>\n",
       "    <tr style=\"text-align: right;\">\n",
       "      <th></th>\n",
       "      <th>artists</th>\n",
       "      <th>track_name</th>\n",
       "      <th>album_name</th>\n",
       "    </tr>\n",
       "  </thead>\n",
       "  <tbody>\n",
       "    <tr>\n",
       "      <th>2007</th>\n",
       "      <td>KALEO</td>\n",
       "      <td>Way down We Go</td>\n",
       "      <td>A/B</td>\n",
       "    </tr>\n",
       "    <tr>\n",
       "      <th>2874</th>\n",
       "      <td>Ashes Remain</td>\n",
       "      <td>End of Me</td>\n",
       "      <td>What I've Become</td>\n",
       "    </tr>\n",
       "    <tr>\n",
       "      <th>2418</th>\n",
       "      <td>The Score</td>\n",
       "      <td>The Fear</td>\n",
       "      <td>Pressure</td>\n",
       "    </tr>\n",
       "    <tr>\n",
       "      <th>2659</th>\n",
       "      <td>Zayde Wølf</td>\n",
       "      <td>Gladiator</td>\n",
       "      <td>Modern Alchemy</td>\n",
       "    </tr>\n",
       "    <tr>\n",
       "      <th>2513</th>\n",
       "      <td>Skillet</td>\n",
       "      <td>Awake and Alive</td>\n",
       "      <td>Awake</td>\n",
       "    </tr>\n",
       "  </tbody>\n",
       "</table>\n",
       "</div>"
      ],
      "text/plain": [
       "           artists       track_name        album_name\n",
       "2007         KALEO   Way down We Go               A/B\n",
       "2874  Ashes Remain        End of Me  What I've Become\n",
       "2418     The Score         The Fear          Pressure\n",
       "2659    Zayde Wølf        Gladiator    Modern Alchemy\n",
       "2513       Skillet  Awake and Alive             Awake"
      ]
     },
     "metadata": {},
     "output_type": "display_data"
    }
   ],
   "source": [
    "recommended_songs('How You Remind Me')"
   ]
  },
  {
   "cell_type": "code",
   "execution_count": 21,
   "metadata": {},
   "outputs": [
    {
     "data": {
      "text/html": [
       "<div>\n",
       "<style scoped>\n",
       "    .dataframe tbody tr th:only-of-type {\n",
       "        vertical-align: middle;\n",
       "    }\n",
       "\n",
       "    .dataframe tbody tr th {\n",
       "        vertical-align: top;\n",
       "    }\n",
       "\n",
       "    .dataframe thead th {\n",
       "        text-align: right;\n",
       "    }\n",
       "</style>\n",
       "<table border=\"1\" class=\"dataframe\">\n",
       "  <thead>\n",
       "    <tr style=\"text-align: right;\">\n",
       "      <th></th>\n",
       "      <th>artists</th>\n",
       "      <th>track_name</th>\n",
       "      <th>album_name</th>\n",
       "    </tr>\n",
       "  </thead>\n",
       "  <tbody>\n",
       "    <tr>\n",
       "      <th>11202</th>\n",
       "      <td>Adele</td>\n",
       "      <td>I Miss You</td>\n",
       "      <td>25</td>\n",
       "    </tr>\n",
       "    <tr>\n",
       "      <th>65707</th>\n",
       "      <td>SOYOU</td>\n",
       "      <td>I Miss You</td>\n",
       "      <td>Guardian (Original Television Soundtrack), Pt. 7</td>\n",
       "    </tr>\n",
       "    <tr>\n",
       "      <th>23774</th>\n",
       "      <td>Embody</td>\n",
       "      <td>I Miss You</td>\n",
       "      <td>I Miss You</td>\n",
       "    </tr>\n",
       "    <tr>\n",
       "      <th>11063</th>\n",
       "      <td>The Beatles</td>\n",
       "      <td>Hey Jude - Remastered 2015</td>\n",
       "      <td>1 (Remastered)</td>\n",
       "    </tr>\n",
       "    <tr>\n",
       "      <th>11903</th>\n",
       "      <td>Duffy</td>\n",
       "      <td>Distant Dreamer</td>\n",
       "      <td>Rockferry</td>\n",
       "    </tr>\n",
       "  </tbody>\n",
       "</table>\n",
       "</div>"
      ],
      "text/plain": [
       "           artists                  track_name  \\\n",
       "11202        Adele                  I Miss You   \n",
       "65707        SOYOU                  I Miss You   \n",
       "23774       Embody                  I Miss You   \n",
       "11063  The Beatles  Hey Jude - Remastered 2015   \n",
       "11903        Duffy             Distant Dreamer   \n",
       "\n",
       "                                             album_name  \n",
       "11202                                                25  \n",
       "65707  Guardian (Original Television Soundtrack), Pt. 7  \n",
       "23774                                        I Miss You  \n",
       "11063                                    1 (Remastered)  \n",
       "11903                                         Rockferry  "
      ]
     },
     "metadata": {},
     "output_type": "display_data"
    }
   ],
   "source": [
    "recommended_songs('I Miss You')"
   ]
  },
  {
   "cell_type": "code",
   "execution_count": 22,
   "metadata": {},
   "outputs": [
    {
     "data": {
      "text/html": [
       "<div>\n",
       "<style scoped>\n",
       "    .dataframe tbody tr th:only-of-type {\n",
       "        vertical-align: middle;\n",
       "    }\n",
       "\n",
       "    .dataframe tbody tr th {\n",
       "        vertical-align: top;\n",
       "    }\n",
       "\n",
       "    .dataframe thead th {\n",
       "        text-align: right;\n",
       "    }\n",
       "</style>\n",
       "<table border=\"1\" class=\"dataframe\">\n",
       "  <thead>\n",
       "    <tr style=\"text-align: right;\">\n",
       "      <th></th>\n",
       "      <th>artists</th>\n",
       "      <th>track_name</th>\n",
       "      <th>album_name</th>\n",
       "    </tr>\n",
       "  </thead>\n",
       "  <tbody>\n",
       "    <tr>\n",
       "      <th>38006</th>\n",
       "      <td>Arctic Monkeys</td>\n",
       "      <td>R U Mine?</td>\n",
       "      <td>AM</td>\n",
       "    </tr>\n",
       "    <tr>\n",
       "      <th>38151</th>\n",
       "      <td>TEMPOREX</td>\n",
       "      <td>Nice Boys</td>\n",
       "      <td>Care</td>\n",
       "    </tr>\n",
       "    <tr>\n",
       "      <th>38000</th>\n",
       "      <td>Arctic Monkeys</td>\n",
       "      <td>I Wanna Be Yours</td>\n",
       "      <td>AM</td>\n",
       "    </tr>\n",
       "    <tr>\n",
       "      <th>38182</th>\n",
       "      <td>Mild High Club</td>\n",
       "      <td>Tesselation</td>\n",
       "      <td>Skiptracing</td>\n",
       "    </tr>\n",
       "    <tr>\n",
       "      <th>38427</th>\n",
       "      <td>Left Lane Cruiser</td>\n",
       "      <td>Juice To Get Loose</td>\n",
       "      <td>Rock Them Back to Hell</td>\n",
       "    </tr>\n",
       "  </tbody>\n",
       "</table>\n",
       "</div>"
      ],
      "text/plain": [
       "                 artists          track_name              album_name\n",
       "38006     Arctic Monkeys           R U Mine?                      AM\n",
       "38151           TEMPOREX           Nice Boys                    Care\n",
       "38000     Arctic Monkeys    I Wanna Be Yours                      AM\n",
       "38182     Mild High Club         Tesselation             Skiptracing\n",
       "38427  Left Lane Cruiser  Juice To Get Loose  Rock Them Back to Hell"
      ]
     },
     "metadata": {},
     "output_type": "display_data"
    }
   ],
   "source": [
    "recommended_songs('Homage')"
   ]
  },
  {
   "cell_type": "code",
   "execution_count": 23,
   "metadata": {},
   "outputs": [
    {
     "data": {
      "text/html": [
       "<div>\n",
       "<style scoped>\n",
       "    .dataframe tbody tr th:only-of-type {\n",
       "        vertical-align: middle;\n",
       "    }\n",
       "\n",
       "    .dataframe tbody tr th {\n",
       "        vertical-align: top;\n",
       "    }\n",
       "\n",
       "    .dataframe thead th {\n",
       "        text-align: right;\n",
       "    }\n",
       "</style>\n",
       "<table border=\"1\" class=\"dataframe\">\n",
       "  <thead>\n",
       "    <tr style=\"text-align: right;\">\n",
       "      <th></th>\n",
       "      <th>artists</th>\n",
       "      <th>track_name</th>\n",
       "      <th>album_name</th>\n",
       "    </tr>\n",
       "  </thead>\n",
       "  <tbody>\n",
       "    <tr>\n",
       "      <th>8266</th>\n",
       "      <td>Deep Purple</td>\n",
       "      <td>Smoke On The Water - Remastered 2012</td>\n",
       "      <td>Machine Head (Remastered)</td>\n",
       "    </tr>\n",
       "    <tr>\n",
       "      <th>8484</th>\n",
       "      <td>Muddy Waters</td>\n",
       "      <td>Mannish Boy</td>\n",
       "      <td>King Of The Electric Blues</td>\n",
       "    </tr>\n",
       "    <tr>\n",
       "      <th>8601</th>\n",
       "      <td>Blues Delight</td>\n",
       "      <td>Slightly Hung Over</td>\n",
       "      <td>Rock Island Line</td>\n",
       "    </tr>\n",
       "    <tr>\n",
       "      <th>8508</th>\n",
       "      <td>The Heavy</td>\n",
       "      <td>Short Change Hero</td>\n",
       "      <td>The House That Dirt Built</td>\n",
       "    </tr>\n",
       "    <tr>\n",
       "      <th>8951</th>\n",
       "      <td>Royal Deluxe</td>\n",
       "      <td>Dangerous</td>\n",
       "      <td>Born for This</td>\n",
       "    </tr>\n",
       "  </tbody>\n",
       "</table>\n",
       "</div>"
      ],
      "text/plain": [
       "            artists                            track_name  \\\n",
       "8266    Deep Purple  Smoke On The Water - Remastered 2012   \n",
       "8484   Muddy Waters                           Mannish Boy   \n",
       "8601  Blues Delight                    Slightly Hung Over   \n",
       "8508      The Heavy                     Short Change Hero   \n",
       "8951   Royal Deluxe                             Dangerous   \n",
       "\n",
       "                      album_name  \n",
       "8266   Machine Head (Remastered)  \n",
       "8484  King Of The Electric Blues  \n",
       "8601            Rock Island Line  \n",
       "8508   The House That Dirt Built  \n",
       "8951               Born for This  "
      ]
     },
     "metadata": {},
     "output_type": "display_data"
    }
   ],
   "source": [
    "recommended_songs('Simple Man')"
   ]
  }
 ],
 "metadata": {
  "colab": {
   "provenance": []
  },
  "kernelspec": {
   "display_name": "Python 3 (ipykernel)",
   "language": "python",
   "name": "python3"
  },
  "language_info": {
   "codemirror_mode": {
    "name": "ipython",
    "version": 3
   },
   "file_extension": ".py",
   "mimetype": "text/x-python",
   "name": "python",
   "nbconvert_exporter": "python",
   "pygments_lexer": "ipython3",
   "version": "3.9.13"
  }
 },
 "nbformat": 4,
 "nbformat_minor": 1
}
