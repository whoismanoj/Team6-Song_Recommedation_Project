{
 "cells": [
  {
   "cell_type": "code",
   "execution_count": 73,
   "metadata": {
    "id": "oBcg6ABDA2Z6"
   },
   "outputs": [],
   "source": [
    "# Basic Libraries\n",
    "import numpy as np\n",
    "import pandas as pd\n",
    "from sklearn.feature_extraction.text import CountVectorizer\n",
    "from sklearn.metrics.pairwise import cosine_similarity"
   ]
  },
  {
   "cell_type": "markdown",
   "metadata": {
    "id": "gUdu12EZI_eX"
   },
   "source": [
    "# Data Extraction"
   ]
  },
  {
   "cell_type": "code",
   "execution_count": 66,
   "metadata": {
    "colab": {
     "base_uri": "https://localhost:8080/",
     "height": 206
    },
    "executionInfo": {
     "elapsed": 316,
     "status": "ok",
     "timestamp": 1681630856699,
     "user": {
      "displayName": "Dino Ng",
      "userId": "02366820357577319560"
     },
     "user_tz": -480
    },
    "id": "RH3a88TA1qsa",
    "outputId": "37271d61-765c-4f1e-cf11-4b640814e973"
   },
   "outputs": [
    {
     "name": "stdout",
     "output_type": "stream",
     "text": [
      "Are all track_names in the database unique?  True\n"
     ]
    }
   ],
   "source": [
    "musicdata = pd.read_csv('Spotify Dataset.csv')\n",
    "musicdata = musicdata.drop([\"Unnamed: 0\", \"track_id\"], axis = 1) \n",
    "musicdata['songlists'] = musicdata.apply(lambda row: row['artists'] + row['track_name'], axis = 1)\n",
    "musicdata = musicdata.drop_duplicates('songlists')\n",
    "musicdata[['artists','track_name', 'album_name']]\n",
    "print(\"Are all track_names in the database unique? \",len(pd.unique(musicdata.songlists))==len(musicdata))"
   ]
  },
  {
   "cell_type": "code",
   "execution_count": 67,
   "metadata": {
    "id": "rGHyuFkbq3dz"
   },
   "outputs": [],
   "source": [
    "data = musicdata.sort_values(by=['popularity'], ascending = False).head(10000) #First 10K popular songs"
   ]
  },
  {
   "cell_type": "code",
   "execution_count": 68,
   "metadata": {
    "colab": {
     "base_uri": "https://localhost:8080/",
     "height": 75
    },
    "executionInfo": {
     "elapsed": 10,
     "status": "ok",
     "timestamp": 1681630869362,
     "user": {
      "displayName": "Dino Ng",
      "userId": "02366820357577319560"
     },
     "user_tz": -480
    },
    "id": "zEyf61ZmDlBZ",
    "outputId": "1dbc6648-8c6a-4a3d-e003-f662e738387d"
   },
   "outputs": [
    {
     "data": {
      "text/plain": [
       "CountVectorizer()"
      ]
     },
     "execution_count": 68,
     "metadata": {},
     "output_type": "execute_result"
    }
   ],
   "source": [
    "genre_vectors = CountVectorizer()\n",
    "genre_vectors.fit(data['track_genre'])"
   ]
  },
  {
   "cell_type": "code",
   "execution_count": 69,
   "metadata": {
    "id": "dqYbwPWLFiH6"
   },
   "outputs": [],
   "source": [
    "def recommended_songs_10k(song_name):\n",
    "\n",
    "    #If the song could not be found within the dataset\n",
    "    if data[data['track_name'] == song_name].shape[0] == 0:\n",
    "        \n",
    "        print('This song is not available. Here are some other popular songs that you may like:\\n')\n",
    "        suggested_music_list = data.nlargest(100, 'popularity')\n",
    "        suggested_music = suggested_music_list.sample(n = 5) #any 5 samples\n",
    "\n",
    "        return display(suggested_music[['artists', 'track_name', 'album_name']])\n",
    "    \n",
    "    #If the song could be found within the dataset\n",
    "    song_input_array1 = genre_vectors.transform(data[data['track_name'] == song_name]['track_genre']).toarray() \n",
    "    #for text comparison\n",
    "    song_input_array2 = data[data['track_name']==song_name].select_dtypes(include = np.number).to_numpy() \n",
    "    #for other numeric factors comparison\n",
    "   \n",
    "    similarity_index = []\n",
    "    for index, row in data.iterrows():\n",
    "        song = row['track_name']\n",
    "     \n",
    "        # Getting vector for existing songs in the playlist.\n",
    "        existing_song_array1 = genre_vectors.transform(data[data['track_name'] == song]['track_genre']).toarray()\n",
    "        #for text comparison\n",
    "        existing_song_array2 = data[data['track_name'] == song].select_dtypes(include = np.number).to_numpy()\n",
    "        #for other numeric factors comparison\n",
    " \n",
    "        # Calculating similarities for text as well as numeric features\n",
    "        text_similarity = cosine_similarity(song_input_array1, existing_song_array1)[0][0]\n",
    "        feature_similarity = cosine_similarity(song_input_array2, existing_song_array2)[0][0]\n",
    "        \n",
    "        #adding the results into the array created\n",
    "        similarity_index.append(text_similarity + feature_similarity)\n",
    " \n",
    "    data['similarity'] = similarity_index\n",
    "    \n",
    "    data.sort_values(by=['similarity'], ascending = [False], inplace=True)\n",
    "   \n",
    "    display(data[['artists', 'track_name', 'album_name']][1:6]) \n",
    "    #Ignore song 1 as it is just the input song itself"
   ]
  },
  {
   "cell_type": "code",
   "execution_count": 70,
   "metadata": {
    "colab": {
     "base_uri": "https://localhost:8080/",
     "height": 206
    },
    "executionInfo": {
     "elapsed": 32354,
     "status": "ok",
     "timestamp": 1681630901707,
     "user": {
      "displayName": "Dino Ng",
      "userId": "02366820357577319560"
     },
     "user_tz": -480
    },
    "id": "3eqrFU_OFqWd",
    "outputId": "0d1473af-ad9b-4ed8-fded-ec077aaf5a47"
   },
   "outputs": [
    {
     "data": {
      "text/html": [
       "<div>\n",
       "<style scoped>\n",
       "    .dataframe tbody tr th:only-of-type {\n",
       "        vertical-align: middle;\n",
       "    }\n",
       "\n",
       "    .dataframe tbody tr th {\n",
       "        vertical-align: top;\n",
       "    }\n",
       "\n",
       "    .dataframe thead th {\n",
       "        text-align: right;\n",
       "    }\n",
       "</style>\n",
       "<table border=\"1\" class=\"dataframe\">\n",
       "  <thead>\n",
       "    <tr style=\"text-align: right;\">\n",
       "      <th></th>\n",
       "      <th>artists</th>\n",
       "      <th>track_name</th>\n",
       "      <th>album_name</th>\n",
       "    </tr>\n",
       "  </thead>\n",
       "  <tbody>\n",
       "    <tr>\n",
       "      <th>68</th>\n",
       "      <td>Andrew Belle</td>\n",
       "      <td>In My Veins - Feat. Erin Mccarley</td>\n",
       "      <td>In My Veins (Feat. Erin Mccarley)</td>\n",
       "    </tr>\n",
       "    <tr>\n",
       "      <th>822</th>\n",
       "      <td>Aimyon</td>\n",
       "      <td>君はロックを聴かない</td>\n",
       "      <td>青春のエキサイトメント</td>\n",
       "    </tr>\n",
       "    <tr>\n",
       "      <th>176</th>\n",
       "      <td>Brandi Carlile</td>\n",
       "      <td>The Story</td>\n",
       "      <td>The Story</td>\n",
       "    </tr>\n",
       "    <tr>\n",
       "      <th>126</th>\n",
       "      <td>Howie Day</td>\n",
       "      <td>Collide - Acoustic Version</td>\n",
       "      <td>Stop All the World Now (Special Edition)</td>\n",
       "    </tr>\n",
       "    <tr>\n",
       "      <th>55</th>\n",
       "      <td>Andrew Belle</td>\n",
       "      <td>The Enemy</td>\n",
       "      <td>Black Bear</td>\n",
       "    </tr>\n",
       "  </tbody>\n",
       "</table>\n",
       "</div>"
      ],
      "text/plain": [
       "            artists                         track_name  \\\n",
       "68     Andrew Belle  In My Veins - Feat. Erin Mccarley   \n",
       "822          Aimyon                         君はロックを聴かない   \n",
       "176  Brandi Carlile                          The Story   \n",
       "126       Howie Day         Collide - Acoustic Version   \n",
       "55     Andrew Belle                          The Enemy   \n",
       "\n",
       "                                   album_name  \n",
       "68          In My Veins (Feat. Erin Mccarley)  \n",
       "822                               青春のエキサイトメント  \n",
       "176                                 The Story  \n",
       "126  Stop All the World Now (Special Edition)  \n",
       "55                                 Black Bear  "
      ]
     },
     "metadata": {},
     "output_type": "display_data"
    }
   ],
   "source": [
    "recommended_songs_10k('Love Someone')"
   ]
  },
  {
   "cell_type": "code",
   "execution_count": 71,
   "metadata": {
    "colab": {
     "base_uri": "https://localhost:8080/",
     "height": 206
    },
    "executionInfo": {
     "elapsed": 33736,
     "status": "ok",
     "timestamp": 1681630935442,
     "user": {
      "displayName": "Dino Ng",
      "userId": "02366820357577319560"
     },
     "user_tz": -480
    },
    "id": "QvkuiAro3oT1",
    "outputId": "729af882-5068-4232-b725-d31ed9e537ae"
   },
   "outputs": [
    {
     "data": {
      "text/html": [
       "<div>\n",
       "<style scoped>\n",
       "    .dataframe tbody tr th:only-of-type {\n",
       "        vertical-align: middle;\n",
       "    }\n",
       "\n",
       "    .dataframe tbody tr th {\n",
       "        vertical-align: top;\n",
       "    }\n",
       "\n",
       "    .dataframe thead th {\n",
       "        text-align: right;\n",
       "    }\n",
       "</style>\n",
       "<table border=\"1\" class=\"dataframe\">\n",
       "  <thead>\n",
       "    <tr style=\"text-align: right;\">\n",
       "      <th></th>\n",
       "      <th>artists</th>\n",
       "      <th>track_name</th>\n",
       "      <th>album_name</th>\n",
       "    </tr>\n",
       "  </thead>\n",
       "  <tbody>\n",
       "    <tr>\n",
       "      <th>67353</th>\n",
       "      <td>Daddy Yankee</td>\n",
       "      <td>Gasolina</td>\n",
       "      <td>Barrio Fino (Bonus Track Version)</td>\n",
       "    </tr>\n",
       "    <tr>\n",
       "      <th>67359</th>\n",
       "      <td>Bad Bunny</td>\n",
       "      <td>Tití Me Preguntó</td>\n",
       "      <td>Un Verano Sin Ti</td>\n",
       "    </tr>\n",
       "    <tr>\n",
       "      <th>67801</th>\n",
       "      <td>Rauw Alejandro;Lyanno;Brray</td>\n",
       "      <td>LOKERA</td>\n",
       "      <td>LOKERA</td>\n",
       "    </tr>\n",
       "    <tr>\n",
       "      <th>67806</th>\n",
       "      <td>Ozuna</td>\n",
       "      <td>Mañana</td>\n",
       "      <td>OzuTochi</td>\n",
       "    </tr>\n",
       "    <tr>\n",
       "      <th>67552</th>\n",
       "      <td>Rvssian;Rauw Alejandro;Chris Brown</td>\n",
       "      <td>Nostálgico</td>\n",
       "      <td>Nostálgico</td>\n",
       "    </tr>\n",
       "  </tbody>\n",
       "</table>\n",
       "</div>"
      ],
      "text/plain": [
       "                                  artists        track_name  \\\n",
       "67353                        Daddy Yankee          Gasolina   \n",
       "67359                           Bad Bunny  Tití Me Preguntó   \n",
       "67801         Rauw Alejandro;Lyanno;Brray            LOKERA   \n",
       "67806                               Ozuna            Mañana   \n",
       "67552  Rvssian;Rauw Alejandro;Chris Brown        Nostálgico   \n",
       "\n",
       "                              album_name  \n",
       "67353  Barrio Fino (Bonus Track Version)  \n",
       "67359                   Un Verano Sin Ti  \n",
       "67801                             LOKERA  \n",
       "67806                           OzuTochi  \n",
       "67552                         Nostálgico  "
      ]
     },
     "metadata": {},
     "output_type": "display_data"
    }
   ],
   "source": [
    "recommended_songs_10k('Efecto')"
   ]
  },
  {
   "cell_type": "code",
   "execution_count": 72,
   "metadata": {
    "colab": {
     "base_uri": "https://localhost:8080/",
     "height": 241
    },
    "executionInfo": {
     "elapsed": 292,
     "status": "ok",
     "timestamp": 1681633330871,
     "user": {
      "displayName": "Dino Ng",
      "userId": "02366820357577319560"
     },
     "user_tz": -480
    },
    "id": "csy9TBvzG5iL",
    "outputId": "19f31bd6-5b08-4e23-b79d-45866dfb6f15"
   },
   "outputs": [
    {
     "name": "stdout",
     "output_type": "stream",
     "text": [
      "This song is not available. Here are some other popular songs that you may like:\n",
      "\n"
     ]
    },
    {
     "data": {
      "text/html": [
       "<div>\n",
       "<style scoped>\n",
       "    .dataframe tbody tr th:only-of-type {\n",
       "        vertical-align: middle;\n",
       "    }\n",
       "\n",
       "    .dataframe tbody tr th {\n",
       "        vertical-align: top;\n",
       "    }\n",
       "\n",
       "    .dataframe thead th {\n",
       "        text-align: right;\n",
       "    }\n",
       "</style>\n",
       "<table border=\"1\" class=\"dataframe\">\n",
       "  <thead>\n",
       "    <tr style=\"text-align: right;\">\n",
       "      <th></th>\n",
       "      <th>artists</th>\n",
       "      <th>track_name</th>\n",
       "      <th>album_name</th>\n",
       "    </tr>\n",
       "  </thead>\n",
       "  <tbody>\n",
       "    <tr>\n",
       "      <th>65053</th>\n",
       "      <td>IVE</td>\n",
       "      <td>After LIKE</td>\n",
       "      <td>After LIKE</td>\n",
       "    </tr>\n",
       "    <tr>\n",
       "      <th>81101</th>\n",
       "      <td>The Weeknd;Gesaffelstein</td>\n",
       "      <td>I Was Never There</td>\n",
       "      <td>My Dear Melancholy,</td>\n",
       "    </tr>\n",
       "    <tr>\n",
       "      <th>20910</th>\n",
       "      <td>Bruno Mars</td>\n",
       "      <td>Locked out of Heaven</td>\n",
       "      <td>Unorthodox Jukebox</td>\n",
       "    </tr>\n",
       "    <tr>\n",
       "      <th>34014</th>\n",
       "      <td>Seafret</td>\n",
       "      <td>Atlantis</td>\n",
       "      <td>Tell Me It's Real (Expanded Edition)</td>\n",
       "    </tr>\n",
       "    <tr>\n",
       "      <th>68663</th>\n",
       "      <td>Chris Jedi;Anuel AA;Chencho Corleone;Ñengo Flow</td>\n",
       "      <td>La Llevo Al Cielo (Ft. Ñengo Flow)</td>\n",
       "      <td>La Llevo Al Cielo (Ft. Ñengo Flow)</td>\n",
       "    </tr>\n",
       "  </tbody>\n",
       "</table>\n",
       "</div>"
      ],
      "text/plain": [
       "                                               artists  \\\n",
       "65053                                              IVE   \n",
       "81101                         The Weeknd;Gesaffelstein   \n",
       "20910                                       Bruno Mars   \n",
       "34014                                          Seafret   \n",
       "68663  Chris Jedi;Anuel AA;Chencho Corleone;Ñengo Flow   \n",
       "\n",
       "                               track_name  \\\n",
       "65053                          After LIKE   \n",
       "81101                   I Was Never There   \n",
       "20910                Locked out of Heaven   \n",
       "34014                            Atlantis   \n",
       "68663  La Llevo Al Cielo (Ft. Ñengo Flow)   \n",
       "\n",
       "                                 album_name  \n",
       "65053                            After LIKE  \n",
       "81101                   My Dear Melancholy,  \n",
       "20910                    Unorthodox Jukebox  \n",
       "34014  Tell Me It's Real (Expanded Edition)  \n",
       "68663    La Llevo Al Cielo (Ft. Ñengo Flow)  "
      ]
     },
     "metadata": {},
     "output_type": "display_data"
    }
   ],
   "source": [
    "recommended_songs_10k('Love me like you do')"
   ]
  }
 ],
 "metadata": {
  "colab": {
   "provenance": []
  },
  "kernelspec": {
   "display_name": "Python 3 (ipykernel)",
   "language": "python",
   "name": "python3"
  },
  "language_info": {
   "codemirror_mode": {
    "name": "ipython",
    "version": 3
   },
   "file_extension": ".py",
   "mimetype": "text/x-python",
   "name": "python",
   "nbconvert_exporter": "python",
   "pygments_lexer": "ipython3",
   "version": "3.9.13"
  }
 },
 "nbformat": 4,
 "nbformat_minor": 1
}
